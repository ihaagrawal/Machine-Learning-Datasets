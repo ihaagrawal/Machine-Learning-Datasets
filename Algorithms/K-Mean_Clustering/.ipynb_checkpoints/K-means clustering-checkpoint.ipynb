{
 "cells": [
  {
   "cell_type": "code",
   "execution_count": 10,
   "id": "9cf6295a-f780-4f27-9351-58b5eeb8a90a",
   "metadata": {},
   "outputs": [],
   "source": [
    "import numpy as np\n",
    "import pandas as pd\n",
    "import matplotlib.pyplot as plt\n",
    "import seaborn as sns\n",
    "\n",
    "import warnings\n",
    "warnings.filterwarnings('ignore')"
   ]
  },
  {
   "cell_type": "code",
   "execution_count": 11,
   "id": "8833ecb0-b87f-48c7-98a2-10b1de011ded",
   "metadata": {},
   "outputs": [],
   "source": [
    "df=pd.read_csv('student_clustering.csv')"
   ]
  },
  {
   "cell_type": "code",
   "execution_count": 12,
   "id": "adca8f94-52a6-4171-b7e7-12d68399ff1e",
   "metadata": {},
   "outputs": [
    {
     "data": {
      "text/html": [
       "<div>\n",
       "<style scoped>\n",
       "    .dataframe tbody tr th:only-of-type {\n",
       "        vertical-align: middle;\n",
       "    }\n",
       "\n",
       "    .dataframe tbody tr th {\n",
       "        vertical-align: top;\n",
       "    }\n",
       "\n",
       "    .dataframe thead th {\n",
       "        text-align: right;\n",
       "    }\n",
       "</style>\n",
       "<table border=\"1\" class=\"dataframe\">\n",
       "  <thead>\n",
       "    <tr style=\"text-align: right;\">\n",
       "      <th></th>\n",
       "      <th>cgpa</th>\n",
       "      <th>iq</th>\n",
       "    </tr>\n",
       "  </thead>\n",
       "  <tbody>\n",
       "    <tr>\n",
       "      <th>0</th>\n",
       "      <td>5.13</td>\n",
       "      <td>88</td>\n",
       "    </tr>\n",
       "    <tr>\n",
       "      <th>1</th>\n",
       "      <td>5.90</td>\n",
       "      <td>113</td>\n",
       "    </tr>\n",
       "    <tr>\n",
       "      <th>2</th>\n",
       "      <td>8.36</td>\n",
       "      <td>93</td>\n",
       "    </tr>\n",
       "    <tr>\n",
       "      <th>3</th>\n",
       "      <td>8.27</td>\n",
       "      <td>97</td>\n",
       "    </tr>\n",
       "    <tr>\n",
       "      <th>4</th>\n",
       "      <td>5.45</td>\n",
       "      <td>110</td>\n",
       "    </tr>\n",
       "  </tbody>\n",
       "</table>\n",
       "</div>"
      ],
      "text/plain": [
       "   cgpa   iq\n",
       "0  5.13   88\n",
       "1  5.90  113\n",
       "2  8.36   93\n",
       "3  8.27   97\n",
       "4  5.45  110"
      ]
     },
     "execution_count": 12,
     "metadata": {},
     "output_type": "execute_result"
    }
   ],
   "source": [
    "df.head()"
   ]
  },
  {
   "cell_type": "code",
   "execution_count": 13,
   "id": "85560fe6-2728-4688-bc32-fac98288d276",
   "metadata": {},
   "outputs": [],
   "source": [
    "#the dataset contains two columns: cgpa and iq of students"
   ]
  },
  {
   "cell_type": "code",
   "execution_count": 14,
   "id": "44125554-788c-4aae-b250-4ed84e67d0c7",
   "metadata": {},
   "outputs": [],
   "source": [
    "#we will use K-means clustering to cluster the data"
   ]
  },
  {
   "cell_type": "code",
   "execution_count": 15,
   "id": "eb19464e-a999-4bcb-b63e-0794a98f1c0d",
   "metadata": {},
   "outputs": [],
   "source": [
    "from sklearn.cluster import KMeans"
   ]
  },
  {
   "cell_type": "code",
   "execution_count": 16,
   "id": "9f27701a-3636-4fc3-8b8b-233e295abe01",
   "metadata": {},
   "outputs": [],
   "source": [
    "#we will create an array containing the wcss values"
   ]
  },
  {
   "cell_type": "code",
   "execution_count": 17,
   "id": "a16f576e-6777-40a2-84fc-a21f80aef068",
   "metadata": {},
   "outputs": [],
   "source": [
    "wcss=[]\n",
    "\n",
    "#we will find the value of wcss for n_cluster ranging from 1 to 10\n",
    "for i in range(1, 11):\n",
    "    km=KMeans(n_clusters=i)\n",
    "    km.fit_predict(df)  #we use the whole dataset\n",
    "    wcss.append(km.inertia_)  #km.inertia_ gives the wcss values"
   ]
  },
  {
   "cell_type": "code",
   "execution_count": 18,
   "id": "23ce1276-4ef9-45d9-8a28-539ecceb21f5",
   "metadata": {},
   "outputs": [
    {
     "data": {
      "text/plain": [
       "[29957.898288000004,\n",
       " 4184.141270000001,\n",
       " 2362.713349,\n",
       " 681.9696600000003,\n",
       " 514.1616803171116,\n",
       " 405.12058406910546,\n",
       " 295.43918959431915,\n",
       " 233.54082485509014,\n",
       " 203.8250339428094,\n",
       " 177.65597561651714]"
      ]
     },
     "execution_count": 18,
     "metadata": {},
     "output_type": "execute_result"
    }
   ],
   "source": [
    "wcss"
   ]
  },
  {
   "cell_type": "code",
   "execution_count": 19,
   "id": "ee9bdc21-ae90-49db-ace8-a00f4a44fbed",
   "metadata": {},
   "outputs": [],
   "source": [
    "#we can see the value of wcss is huge for i=1 but it reduces as i increases\n",
    "#around i=4 we see an abrupt change in wcss value\n",
    "#we will use the elbow method to find the best possible value for i"
   ]
  },
  {
   "cell_type": "code",
   "execution_count": 20,
   "id": "9e27d8f9-090e-4e0a-8849-48fa9ea1b9ec",
   "metadata": {},
   "outputs": [
    {
     "data": {
      "text/plain": [
       "[<matplotlib.lines.Line2D at 0x1e743c448d0>]"
      ]
     },
     "execution_count": 20,
     "metadata": {},
     "output_type": "execute_result"
    },
    {
     "data": {
      "image/png": "[encoded data removed]",
      "text/plain": [
       "<Figure size 640x480 with 1 Axes>"
      ]
     },
     "metadata": {},
     "output_type": "display_data"
    }
   ],
   "source": [
    "#we plot values from 1 to 10 against wcss values\n",
    "plt.plot(range(1,11), wcss)"
   ]
  },
  {
   "cell_type": "code",
   "execution_count": 21,
   "id": "78fcd1d8-64c8-4182-8d2e-fa3ca0c2be8d",
   "metadata": {},
   "outputs": [],
   "source": [
    "#from the above plot we can se there is an abrupt change in wcss value at k=4 \n",
    "#so k=4 will be our optimal number of clusters"
   ]
  },
  {
   "cell_type": "code",
   "execution_count": 29,
   "id": "fdc32fb4-de73-4f8f-aed1-7b6e7981b51c",
   "metadata": {},
   "outputs": [],
   "source": [
    "#we will take the dataset as an array so it is easier to plot the final cluster\n",
    "X=df.iloc[:,:].values\n",
    "km=KMeans(n_clusters=4)\n",
    "y_means=km.fit_predict(X)"
   ]
  },
  {
   "cell_type": "code",
   "execution_count": 30,
   "id": "365cf068-2e38-4ab8-b937-5db2fc828bcb",
   "metadata": {},
   "outputs": [
    {
     "data": {
      "text/plain": [
       "array([2, 0, 1, 1, 0, 0, 1, 3, 0, 1, 2, 0, 1, 2, 0, 1, 0, 1, 0, 0, 1, 2,\n",
       "       1, 2, 2, 1, 2, 3, 1, 0, 3, 0, 3, 0, 1, 1, 3, 0, 2, 0, 2, 1, 1, 2,\n",
       "       3, 3, 1, 0, 3, 0, 2, 2, 3, 1, 3, 0, 0, 3, 0, 3, 0, 1, 1, 3, 2, 3,\n",
       "       1, 2, 0, 1, 0, 3, 1, 2, 0, 3, 0, 3, 2, 1, 1, 3, 0, 2, 3, 2, 3, 0,\n",
       "       3, 0, 3, 3, 1, 2, 1, 1, 3, 1, 2, 3, 0, 2, 2, 3, 2, 2, 1, 2, 3, 3,\n",
       "       1, 3, 0, 0, 1, 3, 1, 0, 3, 2, 2, 0, 1, 3, 1, 2, 1, 0, 2, 1, 1, 0,\n",
       "       2, 2, 0, 3, 0, 2, 1, 1, 1, 2, 0, 2, 2, 3, 2, 3, 0, 2, 3, 2, 3, 3,\n",
       "       2, 1, 0, 3, 0, 1, 2, 3, 0, 1, 3, 2, 0, 2, 2, 3, 3, 0, 3, 2, 2, 1,\n",
       "       3, 0, 2, 3, 3, 0, 0, 0, 1, 2, 1, 1, 3, 0, 1, 1, 2, 2, 1, 2, 3, 0,\n",
       "       0, 3])"
      ]
     },
     "execution_count": 30,
     "metadata": {},
     "output_type": "execute_result"
    }
   ],
   "source": [
    "y_means"
   ]
  },
  {
   "cell_type": "code",
   "execution_count": 32,
   "id": "7b044a47-d53e-43bd-9ab7-054e2599d7c0",
   "metadata": {},
   "outputs": [],
   "source": [
    "#the algorithm divides data into 4 different cluster: 0,1,2,3"
   ]
  },
  {
   "cell_type": "code",
   "execution_count": 36,
   "id": "8e574b34-e5f0-4b2c-8e8a-344a8af114e0",
   "metadata": {},
   "outputs": [
    {
     "data": {
      "text/plain": [
       "array([5.9 , 5.45, 5.88, 5.79, 6.1 , 5.71, 5.5 , 6.05, 5.84, 5.43, 6.01,\n",
       "       5.32, 5.91, 5.57, 6.4 , 5.67, 6.05, 5.85, 5.87, 6.02, 5.77, 6.06,\n",
       "       5.55, 5.81, 5.47, 5.74, 5.8 , 5.88, 5.91, 5.67, 5.74, 5.69, 6.05,\n",
       "       6.14, 5.74, 5.94, 5.86, 6.38, 6.61, 6.04, 6.24, 6.1 , 5.8 , 5.87,\n",
       "       5.97, 6.17, 6.01, 6.33, 5.85, 6.23])"
      ]
     },
     "execution_count": 36,
     "metadata": {},
     "output_type": "execute_result"
    }
   ],
   "source": [
    "#to access the 0th column i.e. cgpa of students who have y_means==0\n",
    "X[y_means==0,0]"
   ]
  },
  {
   "cell_type": "code",
   "execution_count": 37,
   "id": "92fe1606-6259-43ed-98aa-b30952a2f717",
   "metadata": {},
   "outputs": [
    {
     "data": {
      "text/plain": [
       "array([113., 110., 109., 110., 110., 108., 111., 111., 113., 106., 112.,\n",
       "       106., 108., 113., 108., 109., 108., 111., 109., 104., 111., 109.,\n",
       "       109., 112., 111., 109., 108., 110., 109., 111., 108., 109., 109.,\n",
       "       111., 112., 109., 111., 107., 111., 110., 108., 109., 110., 108.,\n",
       "       108., 110., 107., 111., 112., 108.])"
      ]
     },
     "execution_count": 37,
     "metadata": {},
     "output_type": "execute_result"
    }
   ],
   "source": [
    "#to access the 1st column i.e. iq of students who have y_means==0\n",
    "X[y_means==0,1]"
   ]
  },
  {
   "cell_type": "code",
   "execution_count": 38,
   "id": "78fa1490-89b5-4173-9664-9bfc365496f6",
   "metadata": {},
   "outputs": [
    {
     "data": {
      "text/plain": [
       "<matplotlib.collections.PathCollection at 0x1e74a65e190>"
      ]
     },
     "execution_count": 38,
     "metadata": {},
     "output_type": "execute_result"
    },
    {
     "data": {
      "image/png": "[encoded data removed]",
      "text/plain": [
       "<Figure size 640x480 with 1 Axes>"
      ]
     },
     "metadata": {},
     "output_type": "display_data"
    }
   ],
   "source": [
    "plt.scatter(X[y_means == 0,0],X[y_means == 0,1],color='blue')\n",
    "plt.scatter(X[y_means == 1,0],X[y_means == 1,1],color='red')\n",
    "plt.scatter(X[y_means == 2,0],X[y_means == 2,1],color='green')\n",
    "plt.scatter(X[y_means == 3,0],X[y_means == 3,1],color='yellow')"
   ]
  },
  {
   "cell_type": "code",
   "execution_count": 39,
   "id": "9756d38b-597d-440b-984c-0d6d9e37e780",
   "metadata": {},
   "outputs": [],
   "source": [
    "#we can see clearly the algorithm has formed 4 different clusters "
   ]
  },
  {
   "cell_type": "code",
   "execution_count": null,
   "id": "f8d3cddf-672d-4c75-b501-4bee1389bb29",
   "metadata": {},
   "outputs": [],
   "source": []
  }
 ],
 "metadata": {
  "kernelspec": {
   "display_name": "Python 3 (ipykernel)",
   "language": "python",
   "name": "python3"
  },
  "language_info": {
   "codemirror_mode": {
    "name": "ipython",
    "version": 3
   },
   "file_extension": ".py",
   "mimetype": "text/x-python",
   "name": "python",
   "nbconvert_exporter": "python",
   "pygments_lexer": "ipython3",
   "version": "3.11.4"
  }
 },
 "nbformat": 4,
 "nbformat_minor": 5
}
